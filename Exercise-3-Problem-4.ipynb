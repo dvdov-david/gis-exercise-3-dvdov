{
 "cells": [
  {
   "cell_type": "markdown",
   "metadata": {},
   "source": [
    "## Problem 4: What is the closest shopping center from your home / work? (5 points)\n",
    "\n",
    "In the last problem you should find out the closest shopping center from two different locations a) your home and b) work place (or any two points in the Helsinki Region..).\n",
    "\n",
    "**Steps**:\n",
    "\n",
    " - Create a txt-file called `activity_locations.txt` (use same formatting as in Problem 1) with two columns:\n",
    "    - `id`: unique id for each row\n",
    "    - `addr`:  address of your work and home (or any two addresses in the Helsinki Region.)\n",
    "    \n",
    "Save the text file into this repository.\n",
    "    \n",
    " - Read those addresses using pandas and geocode the addresses.\n",
    " - Find out the nearest shopping center to these points using Shapely `nearest_points`.\n",
    " - Print out the name of the shopping center that is nearest to a) home and b) work. For example: `Shopping center closest to home: REDI`."
   ]
  },
  {
   "cell_type": "code",
   "execution_count": 5,
   "metadata": {
    "deletable": false,
    "nbgrader": {
     "cell_type": "code",
     "checksum": "f8d9bb1491a5675d77264cebbf529f88",
     "grade": false,
     "grade_id": "read_data",
     "locked": false,
     "schema_version": 3,
     "solution": true
    }
   },
   "outputs": [
    {
     "data": {
      "text/html": [
       "<div>\n",
       "<style scoped>\n",
       "    .dataframe tbody tr th:only-of-type {\n",
       "        vertical-align: middle;\n",
       "    }\n",
       "\n",
       "    .dataframe tbody tr th {\n",
       "        vertical-align: top;\n",
       "    }\n",
       "\n",
       "    .dataframe thead th {\n",
       "        text-align: right;\n",
       "    }\n",
       "</style>\n",
       "<table border=\"1\" class=\"dataframe\">\n",
       "  <thead>\n",
       "    <tr style=\"text-align: right;\">\n",
       "      <th></th>\n",
       "      <th>id</th>\n",
       "      <th>name</th>\n",
       "      <th>addr</th>\n",
       "    </tr>\n",
       "  </thead>\n",
       "  <tbody>\n",
       "    <tr>\n",
       "      <th>0</th>\n",
       "      <td>0</td>\n",
       "      <td>Itis</td>\n",
       "      <td>Itäkatu 1-7, 00930 Helsinki, Finlandia</td>\n",
       "    </tr>\n",
       "    <tr>\n",
       "      <th>1</th>\n",
       "      <td>1</td>\n",
       "      <td>Forum</td>\n",
       "      <td>Mannerheimintie 14–20, 00100 Helsinki, Finlandia</td>\n",
       "    </tr>\n",
       "    <tr>\n",
       "      <th>2</th>\n",
       "      <td>2</td>\n",
       "      <td>Iso-omena</td>\n",
       "      <td>Piispansilta 11, 02230 Espoo, Finlandia</td>\n",
       "    </tr>\n",
       "    <tr>\n",
       "      <th>3</th>\n",
       "      <td>3</td>\n",
       "      <td>Sello</td>\n",
       "      <td>Leppävaarankatu 3-9, 02600 Espoo, Finlandia</td>\n",
       "    </tr>\n",
       "    <tr>\n",
       "      <th>4</th>\n",
       "      <td>4</td>\n",
       "      <td>Jumbo</td>\n",
       "      <td>Vantaanportinkatu 3, 01510 Vantaa, Finlandia</td>\n",
       "    </tr>\n",
       "  </tbody>\n",
       "</table>\n",
       "</div>"
      ],
      "text/plain": [
       "   id       name                                              addr\n",
       "0   0       Itis            Itäkatu 1-7, 00930 Helsinki, Finlandia\n",
       "1   1      Forum  Mannerheimintie 14–20, 00100 Helsinki, Finlandia\n",
       "2   2  Iso-omena           Piispansilta 11, 02230 Espoo, Finlandia\n",
       "3   3      Sello       Leppävaarankatu 3-9, 02600 Espoo, Finlandia\n",
       "4   4      Jumbo      Vantaanportinkatu 3, 01510 Vantaa, Finlandia"
      ]
     },
     "execution_count": 5,
     "metadata": {},
     "output_type": "execute_result"
    }
   ],
   "source": [
    "# read in input files\n",
    "import pandas as pd\n",
    "import geopandas as gpd\n",
    "from geopandas.tools import geocode\n",
    "\n",
    "fp_actPoints = r\"activity_locations.txt\"\n",
    "fp_shopPoints = r\"shopping_centers.txt\"\n",
    "\n",
    "actPoints = pd.read_csv(fp_actPoints,sep=';')\n",
    "shopPoints= pd.read_csv(fp_shopPoints,sep=';')\n",
    "\n",
    "\n",
    "shopPoints.head()"
   ]
  },
  {
   "cell_type": "code",
   "execution_count": 6,
   "metadata": {},
   "outputs": [
    {
     "data": {
      "text/html": [
       "<div>\n",
       "<style scoped>\n",
       "    .dataframe tbody tr th:only-of-type {\n",
       "        vertical-align: middle;\n",
       "    }\n",
       "\n",
       "    .dataframe tbody tr th {\n",
       "        vertical-align: top;\n",
       "    }\n",
       "\n",
       "    .dataframe thead th {\n",
       "        text-align: right;\n",
       "    }\n",
       "</style>\n",
       "<table border=\"1\" class=\"dataframe\">\n",
       "  <thead>\n",
       "    <tr style=\"text-align: right;\">\n",
       "      <th></th>\n",
       "      <th>id</th>\n",
       "      <th>addr</th>\n",
       "    </tr>\n",
       "  </thead>\n",
       "  <tbody>\n",
       "    <tr>\n",
       "      <th>0</th>\n",
       "      <td>0</td>\n",
       "      <td>Itälahdenkatu 5, 00210 Helsinki, Finlandia</td>\n",
       "    </tr>\n",
       "    <tr>\n",
       "      <th>1</th>\n",
       "      <td>1</td>\n",
       "      <td>Raitamäenkuja 3, 00950 Helsinki, Finlandia</td>\n",
       "    </tr>\n",
       "  </tbody>\n",
       "</table>\n",
       "</div>"
      ],
      "text/plain": [
       "   id                                        addr\n",
       "0   0  Itälahdenkatu 5, 00210 Helsinki, Finlandia\n",
       "1   1  Raitamäenkuja 3, 00950 Helsinki, Finlandia"
      ]
     },
     "execution_count": 6,
     "metadata": {},
     "output_type": "execute_result"
    }
   ],
   "source": [
    "actPoints.head()"
   ]
  },
  {
   "cell_type": "code",
   "execution_count": 16,
   "metadata": {
    "deletable": false,
    "nbgrader": {
     "cell_type": "code",
     "checksum": "cde51574e6cd404266ead2aad7ac5938",
     "grade": false,
     "grade_id": "geocode",
     "locked": false,
     "schema_version": 3,
     "solution": true,
     "task": false
    }
   },
   "outputs": [],
   "source": [
    "# Geocode activity locations\n",
    "geoShop = geocode(shopPoints['addr'], provider='nominatim',user_agent='autogis_21',timeout=10)\n",
    "geoAct  = geocode(actPoints['addr'], provider='nominatim',user_agent='autogis_21',timeout=10)\n",
    "# REPLACE THE ERROR BELOW WITH YOUR OWN CODE\n",
    "#raise NotImplementedError()"
   ]
  },
  {
   "cell_type": "code",
   "execution_count": 17,
   "metadata": {},
   "outputs": [
    {
     "name": "stdout",
     "output_type": "stream",
     "text": [
      "                    geometry  \\\n",
      "0  POINT (25.08294 60.21170)   \n",
      "1  POINT (24.93828 60.16878)   \n",
      "2  POINT (24.73779 60.16294)   \n",
      "3  POINT (24.81042 60.21752)   \n",
      "4  POINT (24.96282 60.29245)   \n",
      "5  POINT (24.97904 60.18702)   \n",
      "6  POINT (24.93068 60.19875)   \n",
      "\n",
      "                                             address  \n",
      "0  Kauppakeskus Itis, 1-7, Itäkatu, Itäkeskus, Va...  \n",
      "1  Salaattiasema, 14-20, Mannerheimintie, Keskust...  \n",
      "2  Sports Academy, 11, Piispansilta, Matinkylän k...  \n",
      "3  Lasten kappeli Arkki, 3-9, Leppävaarankatu, Sä...  \n",
      "4  Stockmann, 3, Vantaanportinkatu, Vantaanportti...  \n",
      "5  Silta, 5, Hermannin rantatie, Verkkosaari, Kal...  \n",
      "6  Apteekki 51, 2b, Firdonkatu, Keski-Pasila, Pas...  \n"
     ]
    }
   ],
   "source": [
    "print(geoShop)"
   ]
  },
  {
   "cell_type": "code",
   "execution_count": 18,
   "metadata": {},
   "outputs": [
    {
     "name": "stdout",
     "output_type": "stream",
     "text": [
      "                    geometry  \\\n",
      "0  POINT (24.88255 60.14837)   \n",
      "1  POINT (25.10530 60.22109)   \n",
      "\n",
      "                                             address  \n",
      "0  5, Itälahdenkatu, Vattuniemi, Lauttasaari, Ete...  \n",
      "1  3, Raitamäenkuja, Vartioharju, Vartiokylä, Itä...  \n"
     ]
    }
   ],
   "source": [
    "print(geoAct)"
   ]
  },
  {
   "cell_type": "code",
   "execution_count": 19,
   "metadata": {},
   "outputs": [
    {
     "data": {
      "text/plain": [
       "geopandas.geodataframe.GeoDataFrame"
      ]
     },
     "execution_count": 19,
     "metadata": {},
     "output_type": "execute_result"
    }
   ],
   "source": [
    "type(geoShop)"
   ]
  },
  {
   "cell_type": "code",
   "execution_count": 20,
   "metadata": {
    "deletable": false,
    "nbgrader": {
     "cell_type": "code",
     "checksum": "866e8fe33cb5b2e5f7d3fbecd76130f1",
     "grade": false,
     "grade_id": "check_crs",
     "locked": false,
     "schema_version": 3,
     "solution": true,
     "task": false
    }
   },
   "outputs": [
    {
     "data": {
      "text/plain": [
       "True"
      ]
     },
     "execution_count": 20,
     "metadata": {},
     "output_type": "execute_result"
    }
   ],
   "source": [
    "# Check coordinate reference system information (re-project/define if needed)\n",
    "geoShop.crs == geoAct.crs\n",
    "# REPLACE THE ERROR BELOW WITH YOUR OWN CODE\n",
    "#raise NotImplementedError()"
   ]
  },
  {
   "cell_type": "code",
   "execution_count": 21,
   "metadata": {},
   "outputs": [
    {
     "data": {
      "text/plain": [
       "<Geographic 2D CRS: EPSG:4326>\n",
       "Name: WGS 84\n",
       "Axis Info [ellipsoidal]:\n",
       "- Lat[north]: Geodetic latitude (degree)\n",
       "- Lon[east]: Geodetic longitude (degree)\n",
       "Area of Use:\n",
       "- name: World\n",
       "- bounds: (-180.0, -90.0, 180.0, 90.0)\n",
       "Datum: World Geodetic System 1984\n",
       "- Ellipsoid: WGS 84\n",
       "- Prime Meridian: Greenwich"
      ]
     },
     "execution_count": 21,
     "metadata": {},
     "output_type": "execute_result"
    }
   ],
   "source": [
    "geoAct.crs"
   ]
  },
  {
   "cell_type": "code",
   "execution_count": 24,
   "metadata": {},
   "outputs": [
    {
     "data": {
      "text/plain": [
       "<Projected CRS: EPSG:3879>\n",
       "Name: ETRS89 / GK25FIN\n",
       "Axis Info [cartesian]:\n",
       "- N[north]: Northing (metre)\n",
       "- E[east]: Easting (metre)\n",
       "Area of Use:\n",
       "- name: Finland - 24.5°E to 25.5°E onshore nominal\n",
       "- bounds: (24.5, 59.94, 25.5, 68.9)\n",
       "Coordinate Operation:\n",
       "- name: Finland Gauss-Kruger zone 25\n",
       "- method: Transverse Mercator\n",
       "Datum: European Terrestrial Reference System 1989\n",
       "- Ellipsoid: GRS 1980\n",
       "- Prime Meridian: Greenwich"
      ]
     },
     "execution_count": 24,
     "metadata": {},
     "output_type": "execute_result"
    }
   ],
   "source": [
    "geoShop = geoShop.to_crs(epsg=3879)\n",
    "geoAct = geoAct.to_crs(epsg=3879)\n",
    "geoAct.crs"
   ]
  },
  {
   "cell_type": "code",
   "execution_count": 29,
   "metadata": {
    "deletable": false,
    "nbgrader": {
     "cell_type": "code",
     "checksum": "5c1d055ae749e65f0c63e487b074ad21",
     "grade": false,
     "grade_id": "nearest_points",
     "locked": false,
     "schema_version": 3,
     "solution": true,
     "task": false
    }
   },
   "outputs": [],
   "source": [
    "# Find the closest shopping center for each activity location (closest shopping center from\n",
    "# and closest shopping center from work) and print out the results:\n",
    "from shapely.ops import nearest_points\n",
    "\n",
    "def get_nearest_shopCenter(row, shopp_gdf):\n",
    "    \"\"\"Find the cearest shopping center to two random locations in Helsinki region\"\"\"\n",
    "    \n",
    "    Dest_Muligeometry = shopp_gdf['geometry'].unary_union\n",
    "    nearest_geoms = nearest_points(row['geometry'],Dest_Muligeometry)\n",
    "    nearest_data = shopp_gdf.loc[shopp_gdf[\"geometry\"] == nearest_geoms[1]]\n",
    "    nearest_shopp = nearest_data['geometry'].values[0]\n",
    "    return nearest_shopp\n",
    "\n",
    "geoAct[\"nearest_shopp\"] = geoAct.apply(get_nearest_shopCenter,shopp_gdf=geoShop,axis=1)\n",
    "# REPLACE THE ERROR BELOW WITH YOUR OWN CODE\n",
    "#raise NotImplementedError()"
   ]
  },
  {
   "cell_type": "code",
   "execution_count": 30,
   "metadata": {},
   "outputs": [
    {
     "data": {
      "text/html": [
       "<div>\n",
       "<style scoped>\n",
       "    .dataframe tbody tr th:only-of-type {\n",
       "        vertical-align: middle;\n",
       "    }\n",
       "\n",
       "    .dataframe tbody tr th {\n",
       "        vertical-align: top;\n",
       "    }\n",
       "\n",
       "    .dataframe thead th {\n",
       "        text-align: right;\n",
       "    }\n",
       "</style>\n",
       "<table border=\"1\" class=\"dataframe\">\n",
       "  <thead>\n",
       "    <tr style=\"text-align: right;\">\n",
       "      <th></th>\n",
       "      <th>geometry</th>\n",
       "      <th>address</th>\n",
       "      <th>nearest_shopp</th>\n",
       "    </tr>\n",
       "  </thead>\n",
       "  <tbody>\n",
       "    <tr>\n",
       "      <th>0</th>\n",
       "      <td>POINT (25493475.664 6670608.813)</td>\n",
       "      <td>5, Itälahdenkatu, Vattuniemi, Lauttasaari, Ete...</td>\n",
       "      <td>POINT (25496573.54241596 6672878.360095562)</td>\n",
       "    </tr>\n",
       "    <tr>\n",
       "      <th>1</th>\n",
       "      <td>POINT (25505836.315 6678710.054)</td>\n",
       "      <td>3, Raitamäenkuja, Vartioharju, Vartiokylä, Itä...</td>\n",
       "      <td>POINT (25504598.60162313 6677662.108634275)</td>\n",
       "    </tr>\n",
       "  </tbody>\n",
       "</table>\n",
       "</div>"
      ],
      "text/plain": [
       "                           geometry  \\\n",
       "0  POINT (25493475.664 6670608.813)   \n",
       "1  POINT (25505836.315 6678710.054)   \n",
       "\n",
       "                                             address  \\\n",
       "0  5, Itälahdenkatu, Vattuniemi, Lauttasaari, Ete...   \n",
       "1  3, Raitamäenkuja, Vartioharju, Vartiokylä, Itä...   \n",
       "\n",
       "                                 nearest_shopp  \n",
       "0  POINT (25496573.54241596 6672878.360095562)  \n",
       "1  POINT (25504598.60162313 6677662.108634275)  "
      ]
     },
     "execution_count": 30,
     "metadata": {},
     "output_type": "execute_result"
    }
   ],
   "source": [
    "geoAct.head()"
   ]
  },
  {
   "cell_type": "code",
   "execution_count": 36,
   "metadata": {},
   "outputs": [
    {
     "data": {
      "text/html": [
       "<div>\n",
       "<style scoped>\n",
       "    .dataframe tbody tr th:only-of-type {\n",
       "        vertical-align: middle;\n",
       "    }\n",
       "\n",
       "    .dataframe tbody tr th {\n",
       "        vertical-align: top;\n",
       "    }\n",
       "\n",
       "    .dataframe thead th {\n",
       "        text-align: right;\n",
       "    }\n",
       "</style>\n",
       "<table border=\"1\" class=\"dataframe\">\n",
       "  <thead>\n",
       "    <tr style=\"text-align: right;\">\n",
       "      <th></th>\n",
       "      <th>geometry</th>\n",
       "      <th>address</th>\n",
       "    </tr>\n",
       "  </thead>\n",
       "  <tbody>\n",
       "    <tr>\n",
       "      <th>0</th>\n",
       "      <td>POINT (25504598.602 6677662.109)</td>\n",
       "      <td>Kauppakeskus Itis, 1-7, Itäkatu, Itäkeskus, Va...</td>\n",
       "    </tr>\n",
       "    <tr>\n",
       "      <th>1</th>\n",
       "      <td>POINT (25496573.542 6672878.360)</td>\n",
       "      <td>Salaattiasema, 14-20, Mannerheimintie, Keskust...</td>\n",
       "    </tr>\n",
       "    <tr>\n",
       "      <th>2</th>\n",
       "      <td>POINT (25485440.532 6672255.563)</td>\n",
       "      <td>Sports Academy, 11, Piispansilta, Matinkylän k...</td>\n",
       "    </tr>\n",
       "    <tr>\n",
       "      <th>3</th>\n",
       "      <td>POINT (25489491.076 6678322.265)</td>\n",
       "      <td>Lasten kappeli Arkki, 3-9, Leppävaarankatu, Sä...</td>\n",
       "    </tr>\n",
       "    <tr>\n",
       "      <th>4</th>\n",
       "      <td>POINT (25497943.932 6686656.982)</td>\n",
       "      <td>Stockmann, 3, Vantaanportinkatu, Vantaanportti...</td>\n",
       "    </tr>\n",
       "    <tr>\n",
       "      <th>5</th>\n",
       "      <td>POINT (25498837.156 6674909.983)</td>\n",
       "      <td>Silta, 5, Hermannin rantatie, Verkkosaari, Kal...</td>\n",
       "    </tr>\n",
       "    <tr>\n",
       "      <th>6</th>\n",
       "      <td>POINT (25496155.285 6676217.986)</td>\n",
       "      <td>Apteekki 51, 2b, Firdonkatu, Keski-Pasila, Pas...</td>\n",
       "    </tr>\n",
       "  </tbody>\n",
       "</table>\n",
       "</div>"
      ],
      "text/plain": [
       "                           geometry  \\\n",
       "0  POINT (25504598.602 6677662.109)   \n",
       "1  POINT (25496573.542 6672878.360)   \n",
       "2  POINT (25485440.532 6672255.563)   \n",
       "3  POINT (25489491.076 6678322.265)   \n",
       "4  POINT (25497943.932 6686656.982)   \n",
       "5  POINT (25498837.156 6674909.983)   \n",
       "6  POINT (25496155.285 6676217.986)   \n",
       "\n",
       "                                             address  \n",
       "0  Kauppakeskus Itis, 1-7, Itäkatu, Itäkeskus, Va...  \n",
       "1  Salaattiasema, 14-20, Mannerheimintie, Keskust...  \n",
       "2  Sports Academy, 11, Piispansilta, Matinkylän k...  \n",
       "3  Lasten kappeli Arkki, 3-9, Leppävaarankatu, Sä...  \n",
       "4  Stockmann, 3, Vantaanportinkatu, Vantaanportti...  \n",
       "5  Silta, 5, Hermannin rantatie, Verkkosaari, Kal...  \n",
       "6  Apteekki 51, 2b, Firdonkatu, Keski-Pasila, Pas...  "
      ]
     },
     "execution_count": 36,
     "metadata": {},
     "output_type": "execute_result"
    }
   ],
   "source": [
    "geoShop"
   ]
  },
  {
   "cell_type": "code",
   "execution_count": 38,
   "metadata": {},
   "outputs": [],
   "source": [
    "#Activate geometry column with nearest shopping center \n",
    "geoAct = geoAct.set_geometry('nearest_shopp')"
   ]
  },
  {
   "cell_type": "code",
   "execution_count": 40,
   "metadata": {},
   "outputs": [],
   "source": [
    "\n",
    "#test: shops = geoShop[geoShop.intersects(geoAct['nearest_shopp'])]\n",
    "#test: geoShop.intersects(geoAct['nearest_shopp'].unary_union)\n",
    "geoAct = gpd.sjoin(geoAct,geoShop,op='intersects',how='inner')\n",
    "#test: pip_mask = data.within(southern.at[0, 'geometry']) \n",
    "#test: pip_data = data.loc[pip_mask]"
   ]
  },
  {
   "cell_type": "code",
   "execution_count": 41,
   "metadata": {},
   "outputs": [
    {
     "data": {
      "text/html": [
       "<div>\n",
       "<style scoped>\n",
       "    .dataframe tbody tr th:only-of-type {\n",
       "        vertical-align: middle;\n",
       "    }\n",
       "\n",
       "    .dataframe tbody tr th {\n",
       "        vertical-align: top;\n",
       "    }\n",
       "\n",
       "    .dataframe thead th {\n",
       "        text-align: right;\n",
       "    }\n",
       "</style>\n",
       "<table border=\"1\" class=\"dataframe\">\n",
       "  <thead>\n",
       "    <tr style=\"text-align: right;\">\n",
       "      <th></th>\n",
       "      <th>geometry</th>\n",
       "      <th>address_left</th>\n",
       "      <th>nearest_shopp</th>\n",
       "      <th>index_right</th>\n",
       "      <th>address_right</th>\n",
       "    </tr>\n",
       "  </thead>\n",
       "  <tbody>\n",
       "    <tr>\n",
       "      <th>0</th>\n",
       "      <td>POINT (25493475.664 6670608.813)</td>\n",
       "      <td>5, Itälahdenkatu, Vattuniemi, Lauttasaari, Ete...</td>\n",
       "      <td>POINT (25496573.542 6672878.360)</td>\n",
       "      <td>1</td>\n",
       "      <td>Salaattiasema, 14-20, Mannerheimintie, Keskust...</td>\n",
       "    </tr>\n",
       "    <tr>\n",
       "      <th>1</th>\n",
       "      <td>POINT (25505836.315 6678710.054)</td>\n",
       "      <td>3, Raitamäenkuja, Vartioharju, Vartiokylä, Itä...</td>\n",
       "      <td>POINT (25504598.602 6677662.109)</td>\n",
       "      <td>0</td>\n",
       "      <td>Kauppakeskus Itis, 1-7, Itäkatu, Itäkeskus, Va...</td>\n",
       "    </tr>\n",
       "  </tbody>\n",
       "</table>\n",
       "</div>"
      ],
      "text/plain": [
       "                           geometry  \\\n",
       "0  POINT (25493475.664 6670608.813)   \n",
       "1  POINT (25505836.315 6678710.054)   \n",
       "\n",
       "                                        address_left  \\\n",
       "0  5, Itälahdenkatu, Vattuniemi, Lauttasaari, Ete...   \n",
       "1  3, Raitamäenkuja, Vartioharju, Vartiokylä, Itä...   \n",
       "\n",
       "                      nearest_shopp  index_right  \\\n",
       "0  POINT (25496573.542 6672878.360)            1   \n",
       "1  POINT (25504598.602 6677662.109)            0   \n",
       "\n",
       "                                       address_right  \n",
       "0  Salaattiasema, 14-20, Mannerheimintie, Keskust...  \n",
       "1  Kauppakeskus Itis, 1-7, Itäkatu, Itäkeskus, Va...  "
      ]
     },
     "execution_count": 41,
     "metadata": {},
     "output_type": "execute_result"
    }
   ],
   "source": [
    "geoAct.head()"
   ]
  },
  {
   "cell_type": "code",
   "execution_count": 55,
   "metadata": {},
   "outputs": [
    {
     "name": "stdout",
     "output_type": "stream",
     "text": [
      "1.1.5\n"
     ]
    }
   ],
   "source": [
    "print(pd.__version__)"
   ]
  },
  {
   "cell_type": "code",
   "execution_count": 63,
   "metadata": {},
   "outputs": [],
   "source": [
    "geoAct = geoAct.rename(columns={'index_right':'id'})\n",
    "geoAct1= pd.merge(geoAct,shopPoints, on = 'id')"
   ]
  },
  {
   "cell_type": "markdown",
   "metadata": {},
   "source": [
    "Can you think of other application cases for the nearest neighbour analysis?"
   ]
  },
  {
   "cell_type": "code",
   "execution_count": 67,
   "metadata": {},
   "outputs": [
    {
     "data": {
      "text/html": [
       "<div>\n",
       "<style scoped>\n",
       "    .dataframe tbody tr th:only-of-type {\n",
       "        vertical-align: middle;\n",
       "    }\n",
       "\n",
       "    .dataframe tbody tr th {\n",
       "        vertical-align: top;\n",
       "    }\n",
       "\n",
       "    .dataframe thead th {\n",
       "        text-align: right;\n",
       "    }\n",
       "</style>\n",
       "<table border=\"1\" class=\"dataframe\">\n",
       "  <thead>\n",
       "    <tr style=\"text-align: right;\">\n",
       "      <th></th>\n",
       "      <th>geometry</th>\n",
       "      <th>address_left</th>\n",
       "      <th>nearest_shopp</th>\n",
       "      <th>id</th>\n",
       "      <th>address_right</th>\n",
       "      <th>name</th>\n",
       "      <th>addr</th>\n",
       "    </tr>\n",
       "  </thead>\n",
       "  <tbody>\n",
       "    <tr>\n",
       "      <th>0</th>\n",
       "      <td>POINT (25493475.664 6670608.813)</td>\n",
       "      <td>5, Itälahdenkatu, Vattuniemi, Lauttasaari, Ete...</td>\n",
       "      <td>POINT (25496573.542 6672878.360)</td>\n",
       "      <td>1</td>\n",
       "      <td>Salaattiasema, 14-20, Mannerheimintie, Keskust...</td>\n",
       "      <td>Forum</td>\n",
       "      <td>Mannerheimintie 14–20, 00100 Helsinki, Finlandia</td>\n",
       "    </tr>\n",
       "    <tr>\n",
       "      <th>1</th>\n",
       "      <td>POINT (25505836.315 6678710.054)</td>\n",
       "      <td>3, Raitamäenkuja, Vartioharju, Vartiokylä, Itä...</td>\n",
       "      <td>POINT (25504598.602 6677662.109)</td>\n",
       "      <td>0</td>\n",
       "      <td>Kauppakeskus Itis, 1-7, Itäkatu, Itäkeskus, Va...</td>\n",
       "      <td>Itis</td>\n",
       "      <td>Itäkatu 1-7, 00930 Helsinki, Finlandia</td>\n",
       "    </tr>\n",
       "  </tbody>\n",
       "</table>\n",
       "</div>"
      ],
      "text/plain": [
       "                           geometry  \\\n",
       "0  POINT (25493475.664 6670608.813)   \n",
       "1  POINT (25505836.315 6678710.054)   \n",
       "\n",
       "                                        address_left  \\\n",
       "0  5, Itälahdenkatu, Vattuniemi, Lauttasaari, Ete...   \n",
       "1  3, Raitamäenkuja, Vartioharju, Vartiokylä, Itä...   \n",
       "\n",
       "                      nearest_shopp  id  \\\n",
       "0  POINT (25496573.542 6672878.360)   1   \n",
       "1  POINT (25504598.602 6677662.109)   0   \n",
       "\n",
       "                                       address_right   name  \\\n",
       "0  Salaattiasema, 14-20, Mannerheimintie, Keskust...  Forum   \n",
       "1  Kauppakeskus Itis, 1-7, Itäkatu, Itäkeskus, Va...   Itis   \n",
       "\n",
       "                                               addr  \n",
       "0  Mannerheimintie 14–20, 00100 Helsinki, Finlandia  \n",
       "1            Itäkatu 1-7, 00930 Helsinki, Finlandia  "
      ]
     },
     "execution_count": 67,
     "metadata": {},
     "output_type": "execute_result"
    }
   ],
   "source": [
    "geoAct1.head()"
   ]
  },
  {
   "cell_type": "code",
   "execution_count": null,
   "metadata": {},
   "outputs": [],
   "source": [
    "print(geoAct1[['address_left','name']])"
   ]
  },
  {
   "cell_type": "markdown",
   "metadata": {
    "deletable": false,
    "nbgrader": {
     "cell_type": "markdown",
     "checksum": "b8e2fada1ee7e8553010aba227e89bfb",
     "grade": true,
     "grade_id": "problem_4_check",
     "locked": false,
     "points": 5,
     "schema_version": 3,
     "solution": true
    }
   },
   "source": [
    "YOUR ANSWER HERE"
   ]
  },
  {
   "cell_type": "code",
   "execution_count": 72,
   "metadata": {},
   "outputs": [
    {
     "name": "stdout",
     "output_type": "stream",
     "text": [
      "Shopping center closest to home is Forum\n"
     ]
    }
   ],
   "source": [
    "print(\"Shopping center closest to home is \"+geoAct1.at[0,'name'])"
   ]
  },
  {
   "cell_type": "code",
   "execution_count": 73,
   "metadata": {},
   "outputs": [
    {
     "name": "stdout",
     "output_type": "stream",
     "text": [
      "Shopping center closest to work is Itis\n"
     ]
    }
   ],
   "source": [
    "print(\"Shopping center closest to work is \"+geoAct1.at[1,'name'])"
   ]
  }
 ],
 "metadata": {
  "anaconda-cloud": {},
  "kernelspec": {
   "display_name": "Python 3",
   "language": "python",
   "name": "python3"
  },
  "language_info": {
   "codemirror_mode": {
    "name": "ipython",
    "version": 3
   },
   "file_extension": ".py",
   "mimetype": "text/x-python",
   "name": "python",
   "nbconvert_exporter": "python",
   "pygments_lexer": "ipython3",
   "version": "3.8.6"
  }
 },
 "nbformat": 4,
 "nbformat_minor": 4
}
